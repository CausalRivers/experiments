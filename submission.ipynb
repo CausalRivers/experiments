{
 "cells": [
  {
   "cell_type": "code",
   "execution_count": 2,
   "metadata": {},
   "outputs": [],
   "source": [
    "import pandas as pd\n",
    "from IPython.display import display, HTML\n",
    "from assembly_tools import format_table, extract_raw_performance, build_exp1\n",
    "from hydra import initialize, compose\n",
    "import numpy as np"
   ]
  },
  {
   "cell_type": "markdown",
   "metadata": {},
   "source": [
    "### Assembly of experimental results 1"
   ]
  },
  {
   "cell_type": "code",
   "execution_count": null,
   "metadata": {},
   "outputs": [],
   "source": [
    "# Testsing the submission form."
   ]
  },
  {
   "cell_type": "markdown",
   "metadata": {},
   "source": [
    "# Styling of the table"
   ]
  },
  {
   "cell_type": "code",
   "execution_count": 17,
   "metadata": {},
   "outputs": [
    {
     "name": "stdout",
     "output_type": "stream",
     "text": [
      "renaming.. resolution_value\n",
      "renaming.. method_hps.max_lag\n",
      "renaming.. method_hps.cp_architecture\n",
      "renaming.. ds_name\n",
      "renaming.. normalize\n",
      "renaming.. window_data_month_value\n",
      "renaming.. window_data_year_value\n",
      "\\begin{tabular}{lrrrrrrrrrrr}\n",
      " & close_3 & close_5 & root_cause_3 & root_cause_5 & 1_random_3 & 1_random_5 & confounder_3 & confounder_5 & random_3 & random_5 & disjoint_10 \\\\\n",
      "Null model &.50 &.50 &.50 &.50 &.50 &.50 &.50 &.50 &.50 &.50 &.50 \\\\\n",
      "RP &.80 &.76 &.76 &.70 &.74 &.73 &.62 &.66 &.79 &.75 &.75 \\\\\n",
      "RP+N &.72 &.62 & {\\cellcolor[HTML]{B8F2BE}}.81 & {\\cellcolor[HTML]{A5CFA9}}.77 &.71 &.65 &.58 &.58 &.72 &.64 &.65 \\\\\n",
      "RP+B &.78 &.71 &.61 &.53 &.81 &.71 &.61 &.62 &.76 &.68 &.58 \\\\\n",
      "CC &.68 &.63 &.70 &.67 &.64 &.66 &.65 &.59 &.71 &.71 &.66 \\\\\n",
      "CC+C &.69 &.64 &.72 &.70 &.69 &.67 &.64 &.60 &.71 &.67 &.75 \\\\\n",
      "RPCC &.70 &.66 &.70 &.65 &.68 &.68 &.63 &.60 &.72 &.71 &.71 \\\\\n",
      "RPCC+N &.68 &.60 &.73 &.70 &.67 &.64 &.62 &.57 &.69 &.64 &.66 \\\\\n",
      "RPCC+B &.68 &.63 &.60 &.55 &.72 &.66 &.63 &.58 &.69 &.65 &.57 \\\\\n",
      "RPCC+C &.71 &.66 &.71 &.68 &.71 &.67 &.65 &.61 &.71 &.67 &.75 \\\\\n",
      "VAR & {\\cellcolor[HTML]{B8F2BE}}.81 & {\\cellcolor[HTML]{A5CFA9}}.81 & {\\cellcolor[HTML]{A5CFA9}}.79 &.75 &.80 & {\\cellcolor[HTML]{A5CFA9}}.79 & {\\cellcolor[HTML]{B8F2BE}}.71 & {\\cellcolor[HTML]{B8F2BE}}.72 & {\\cellcolor[HTML]{B8F2BE}}.82 & {\\cellcolor[HTML]{B8F2BE}}.80 & {\\cellcolor[HTML]{A5CFA9}}.82 \\\\\n",
      "Varlingam &.79 &.77 &.77 & {\\cellcolor[HTML]{B8F2BE}}.77 & {\\cellcolor[HTML]{B8F2BE}}.84 &.79 & {\\cellcolor[HTML]{A5CFA9}}.68 &.70 &.79 &.75 & {\\cellcolor[HTML]{B8F2BE}}.83 \\\\\n",
      "dynotears &.50 &.50 &.50 &.56 &.52 &.61 &.53 &.53 &.50 &.61 &.61 \\\\\n",
      "PCMCI &.64 &.62 &.70 &.74 & {\\cellcolor[HTML]{A5CFA9}}.83 &.74 &.66 &.64 &.65 &.65 &.80 \\\\\n",
      "CDMI & {\\cellcolor[HTML]{A5CFA9}}.81 & {\\cellcolor[HTML]{B8F2BE}}.81 &.72 &.65 &.82 & {\\cellcolor[HTML]{B8F2BE}}.80 &.63 & {\\cellcolor[HTML]{A5CFA9}}.71 & {\\cellcolor[HTML]{A5CFA9}}.80 & {\\cellcolor[HTML]{A5CFA9}}.78 &.75 \\\\\n",
      "CP (Transf) &.60 &.65 &.62 &.68 &.80 &.72 &.56 &.56 &.60 &.65 & \\textdagger \\\\\n",
      "CP (Gru) &.66 &.58 &.68 &.56 &.81 &.65 &.56 &.56 &.64 &.60 & \\textdagger \\\\\n",
      "\\end{tabular}\n",
      "\n"
     ]
    },
    {
     "name": "stderr",
     "output_type": "stream",
     "text": [
      "/home/stein/project_resources/causalrivers/experiments/assembly_tools.py:130: DtypeWarning: Columns (22,24,25,30,54,55,58,59,61,62,63,64,66,67,75,76,77,81,82,85,86,87,88,89,90,92,93) have mixed types. Specify dtype option on import or set low_memory=False.\n",
      "  data = pd.read_csv(cfg.data_path + \"exp1/cached.csv\", index_col=0)\n"
     ]
    }
   ],
   "source": [
    "# We use this table for display on our website.\n",
    "table = build_exp1(scoring=\"Individual AUROC\", null_name=\"Null AUROC\")"
   ]
  },
  {
   "cell_type": "code",
   "execution_count": 18,
   "metadata": {},
   "outputs": [],
   "source": [
    "table.reset_index(inplace=True)\n",
    "table = table.rename(columns={\"index\": \"Method\"})\n",
    "table.rename(columns={\"close_3\": \"Close 3\",\n",
    "                      \"close_5\": \"Close 5\",\n",
    "                      \"root_cause_3\": \"Root cause 3\",\n",
    "                      \"root_cause_5\": \"Root cause 5\",\n",
    "                      \"1_random_3\": \"Random+1 3\",\n",
    "                      \"1_random_5\": \"Random+1 5\",\n",
    "                      \"confounder_3\": \"Confounder 3\",\n",
    "                      \"confounder_5\": \"Confounder 5\",\n",
    "                      \"random_3\": \"Random 3\",\n",
    "                      \"random_5\": \"Random 5\",\n",
    "                      \"disjoint_10\": \"Disjoint 10\",},\n",
    "             inplace=True)"
   ]
  },
  {
   "cell_type": "code",
   "execution_count": 32,
   "metadata": {},
   "outputs": [],
   "source": [
    "fantasy_method = table.iloc[[0]]"
   ]
  },
  {
   "cell_type": "code",
   "execution_count": 34,
   "metadata": {},
   "outputs": [
    {
     "name": "stderr",
     "output_type": "stream",
     "text": [
      "/tmp/ipykernel_3691105/3493960864.py:1: SettingWithCopyWarning: \n",
      "A value is trying to be set on a copy of a slice from a DataFrame.\n",
      "Try using .loc[row_indexer,col_indexer] = value instead\n",
      "\n",
      "See the caveats in the documentation: https://pandas.pydata.org/pandas-docs/stable/user_guide/indexing.html#returning-a-view-versus-a-copy\n",
      "  fantasy_method[\"Method\"] = [\"Fantasy Method\"]\n"
     ]
    }
   ],
   "source": [
    "fantasy_method[\"Method\"] = [\"Fantasy Method\"]"
   ]
  },
  {
   "cell_type": "code",
   "execution_count": 36,
   "metadata": {},
   "outputs": [
    {
     "name": "stderr",
     "output_type": "stream",
     "text": [
      "/tmp/ipykernel_3691105/3095970334.py:1: SettingWithCopyWarning: \n",
      "A value is trying to be set on a copy of a slice from a DataFrame\n",
      "\n",
      "See the caveats in the documentation: https://pandas.pydata.org/pandas-docs/stable/user_guide/indexing.html#returning-a-view-versus-a-copy\n",
      "  fantasy_method.drop(columns=[\"Root cause 5\", \"Random+1 3\", \"Random+1 5\", \"Confounder 3\"], inplace=True)\n"
     ]
    }
   ],
   "source": [
    "fantasy_method.drop(columns=[\"Root cause 5\", \"Random+1 3\", \"Random+1 5\", \"Confounder 3\"], inplace=True)\n"
   ]
  },
  {
   "cell_type": "code",
   "execution_count": 38,
   "metadata": {},
   "outputs": [],
   "source": [
    "fantasy_method.to_csv(\"../CausalRivers.github.io/fantasy_submission.csv\", index=True)"
   ]
  },
  {
   "cell_type": "code",
   "execution_count": 24,
   "metadata": {},
   "outputs": [],
   "source": [
    "table.to_csv(\"../CausalRivers.github.io/scoring.csv\", index=True)"
   ]
  }
 ],
 "metadata": {
  "kernelspec": {
   "display_name": "causalrivers",
   "language": "python",
   "name": "python3"
  },
  "language_info": {
   "codemirror_mode": {
    "name": "ipython",
    "version": 3
   },
   "file_extension": ".py",
   "mimetype": "text/x-python",
   "name": "python",
   "nbconvert_exporter": "python",
   "pygments_lexer": "ipython3",
   "version": "3.13.0"
  }
 },
 "nbformat": 4,
 "nbformat_minor": 2
}
