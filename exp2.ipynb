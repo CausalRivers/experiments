{
 "cells": [
  {
   "cell_type": "code",
   "execution_count": 1,
   "metadata": {},
   "outputs": [],
   "source": [
    "import pandas as pd\n",
    "from assembly_tools import load_method_results, style_table, test_runs\n",
    "from IPython.display import display, HTML\n"
   ]
  },
  {
   "cell_type": "code",
   "execution_count": 2,
   "metadata": {},
   "outputs": [],
   "source": [
    "%load_ext autoreload\n",
    "%autoreload 2"
   ]
  },
  {
   "cell_type": "markdown",
   "metadata": {},
   "source": [
    "### Assembly of experimental results 2\n"
   ]
  },
  {
   "cell_type": "code",
   "execution_count": 54,
   "metadata": {},
   "outputs": [],
   "source": [
    "order  = [\"random_5\"]\n",
    "sc = 'Max individual F1'\n",
    "p  = \"/home/datasets4/stein/rivers/paper_result_storage/new_runs/exp2/\""
   ]
  },
  {
   "cell_type": "code",
   "execution_count": 55,
   "metadata": {},
   "outputs": [],
   "source": [
    "metrics = [\n",
    "    'Max Acc thresh',\n",
    "    'Max Acc',\n",
    "    'Max individual Acc thresh',\n",
    "    'Max individual Acc',\n",
    "    'Null Acc',\n",
    "    'Max F1 thresh',\n",
    "    'Max F1',\n",
    "    'Max individual F1 thresh',\n",
    "    'Max individual F1',\n",
    "    'Null F1',\n",
    "    'AUROC',\n",
    "    'Individual AUROC',\n",
    "    \"runtime\"\n",
    "]"
   ]
  },
  {
   "cell_type": "code",
   "execution_count": 56,
   "metadata": {},
   "outputs": [
    {
     "name": "stdout",
     "output_type": "stream",
     "text": [
      "(True, True, 120)\n",
      "Fail: ('random_5', 'resources/rivers_flood.csv', 2021)\n"
     ]
    },
    {
     "data": {
      "text/html": [
       "<div>\n",
       "<style scoped>\n",
       "    .dataframe tbody tr th:only-of-type {\n",
       "        vertical-align: middle;\n",
       "    }\n",
       "\n",
       "    .dataframe tbody tr th {\n",
       "        vertical-align: top;\n",
       "    }\n",
       "\n",
       "    .dataframe thead tr th {\n",
       "        text-align: left;\n",
       "    }\n",
       "</style>\n",
       "<table border=\"1\" class=\"dataframe\">\n",
       "  <thead>\n",
       "    <tr>\n",
       "      <th></th>\n",
       "      <th>random_5</th>\n",
       "    </tr>\n",
       "  </thead>\n",
       "  <tbody>\n",
       "    <tr>\n",
       "      <th>RPCC_resources/rivers_flood.csv False</th>\n",
       "      <td>0.5962076181571273</td>\n",
       "    </tr>\n",
       "    <tr>\n",
       "      <th>RPCC_resources/rivers_ts_east_germany.csv False</th>\n",
       "      <td>0.6220118435405954</td>\n",
       "    </tr>\n",
       "    <tr>\n",
       "      <th>RPCC_resources/rivers_ts_east_germany.csv 2021</th>\n",
       "      <td>0.6242280549433424</td>\n",
       "    </tr>\n",
       "  </tbody>\n",
       "</table>\n",
       "</div>"
      ],
      "text/plain": [
       "                                                           random_5\n",
       "RPCC_resources/rivers_flood.csv False            0.5962076181571273\n",
       "RPCC_resources/rivers_ts_east_germany.csv False  0.6220118435405954\n",
       "RPCC_resources/rivers_ts_east_germany.csv 2021   0.6242280549433424"
      ]
     },
     "execution_count": 56,
     "metadata": {},
     "output_type": "execute_result"
    }
   ],
   "source": [
    "#complete\n",
    "hps = sorted([\"data_path\", \"resolution_value\", \"method_hps.filter_mode\",\"normalize\", 'window_data_month_value', 'window_data_year_value'])\n",
    "combo = load_method_results(mypath=p, method_name=\"combo_\")\n",
    "print(test_runs(combo.astype(str), metrics, hps))\n",
    "combo_style = style_table(combo,order,name=\"RPCC\", scoring= sc, restriction=[\"data_path\",\"window_data_year_value\"])\n",
    "combo_style"
   ]
  },
  {
   "cell_type": "code",
   "execution_count": 57,
   "metadata": {},
   "outputs": [
    {
     "name": "stdout",
     "output_type": "stream",
     "text": [
      "(True, True, 45)\n",
      "Fail: ('random_5', 'resources/rivers_flood.csv', 2021)\n"
     ]
    },
    {
     "data": {
      "text/html": [
       "<div>\n",
       "<style scoped>\n",
       "    .dataframe tbody tr th:only-of-type {\n",
       "        vertical-align: middle;\n",
       "    }\n",
       "\n",
       "    .dataframe tbody tr th {\n",
       "        vertical-align: top;\n",
       "    }\n",
       "\n",
       "    .dataframe thead tr th {\n",
       "        text-align: left;\n",
       "    }\n",
       "</style>\n",
       "<table border=\"1\" class=\"dataframe\">\n",
       "  <thead>\n",
       "    <tr>\n",
       "      <th></th>\n",
       "      <th>random_5</th>\n",
       "    </tr>\n",
       "  </thead>\n",
       "  <tbody>\n",
       "    <tr>\n",
       "      <th>RP_resources/rivers_ts_east_germany.csv 2021</th>\n",
       "      <td>0.6366812113656434</td>\n",
       "    </tr>\n",
       "    <tr>\n",
       "      <th>RP_resources/rivers_ts_east_germany.csv False</th>\n",
       "      <td>0.6366812113656434</td>\n",
       "    </tr>\n",
       "    <tr>\n",
       "      <th>RP_resources/rivers_flood.csv False</th>\n",
       "      <td>0.5672484546257337</td>\n",
       "    </tr>\n",
       "  </tbody>\n",
       "</table>\n",
       "</div>"
      ],
      "text/plain": [
       "                                                         random_5\n",
       "RP_resources/rivers_ts_east_germany.csv 2021   0.6366812113656434\n",
       "RP_resources/rivers_ts_east_germany.csv False  0.6366812113656434\n",
       "RP_resources/rivers_flood.csv False            0.5672484546257337"
      ]
     },
     "execution_count": 57,
     "metadata": {},
     "output_type": "execute_result"
    }
   ],
   "source": [
    "#complete\n",
    "hps = sorted([\"data_path\", \"resolution_value\", \"method_hps.filter_mode\", 'window_data_month_value', 'window_data_year_value'])\n",
    "reverse = load_method_results(mypath=p,method_name=\"reverse_\")\n",
    "print(test_runs(reverse.astype(str), metrics, hps))\n",
    "reverse_style = style_table(reverse,order,name=\"RP\", scoring =sc, restriction=[\"data_path\", \"window_data_year_value\"])\n",
    "reverse_style"
   ]
  },
  {
   "cell_type": "code",
   "execution_count": 58,
   "metadata": {},
   "outputs": [
    {
     "name": "stdout",
     "output_type": "stream",
     "text": [
      "(True, True, 30)\n",
      "Fail: ('random_5', 'resources/rivers_flood.csv', 2021)\n"
     ]
    },
    {
     "data": {
      "text/html": [
       "<div>\n",
       "<style scoped>\n",
       "    .dataframe tbody tr th:only-of-type {\n",
       "        vertical-align: middle;\n",
       "    }\n",
       "\n",
       "    .dataframe tbody tr th {\n",
       "        vertical-align: top;\n",
       "    }\n",
       "\n",
       "    .dataframe thead tr th {\n",
       "        text-align: left;\n",
       "    }\n",
       "</style>\n",
       "<table border=\"1\" class=\"dataframe\">\n",
       "  <thead>\n",
       "    <tr>\n",
       "      <th></th>\n",
       "      <th>random_5</th>\n",
       "    </tr>\n",
       "  </thead>\n",
       "  <tbody>\n",
       "    <tr>\n",
       "      <th>CC_resources/rivers_ts_east_germany.csv False</th>\n",
       "      <td>0.6108076251835017</td>\n",
       "    </tr>\n",
       "    <tr>\n",
       "      <th>CC_resources/rivers_ts_east_germany.csv 2021</th>\n",
       "      <td>0.5122412572622952</td>\n",
       "    </tr>\n",
       "    <tr>\n",
       "      <th>CC_resources/rivers_flood.csv False</th>\n",
       "      <td>0.5933683583052447</td>\n",
       "    </tr>\n",
       "  </tbody>\n",
       "</table>\n",
       "</div>"
      ],
      "text/plain": [
       "                                                         random_5\n",
       "CC_resources/rivers_ts_east_germany.csv False  0.6108076251835017\n",
       "CC_resources/rivers_ts_east_germany.csv 2021   0.5122412572622952\n",
       "CC_resources/rivers_flood.csv False            0.5933683583052447"
      ]
     },
     "execution_count": 58,
     "metadata": {},
     "output_type": "execute_result"
    }
   ],
   "source": [
    "#complete\n",
    "hps = sorted([\"data_path\", \"resolution_value\", \"method_hps.filter_mode\", 'window_data_month_value', 'window_data_year_value'])\n",
    "cross = load_method_results(mypath=p, method_name=\"cross_\")\n",
    "print(test_runs(cross.astype(str), metrics, hps))\n",
    "\n",
    "cross_style = style_table(cross,order,name=\"CC\", scoring =sc, restriction=[\"data_path\", \"window_data_year_value\"])\n",
    "cross_style"
   ]
  },
  {
   "cell_type": "code",
   "execution_count": 59,
   "metadata": {},
   "outputs": [
    {
     "name": "stdout",
     "output_type": "stream",
     "text": [
      "(True, True, 120)\n",
      "Fail: ('random_5', 'resources/rivers_flood.csv', 2021)\n"
     ]
    },
    {
     "data": {
      "text/html": [
       "<div>\n",
       "<style scoped>\n",
       "    .dataframe tbody tr th:only-of-type {\n",
       "        vertical-align: middle;\n",
       "    }\n",
       "\n",
       "    .dataframe tbody tr th {\n",
       "        vertical-align: top;\n",
       "    }\n",
       "\n",
       "    .dataframe thead tr th {\n",
       "        text-align: left;\n",
       "    }\n",
       "</style>\n",
       "<table border=\"1\" class=\"dataframe\">\n",
       "  <thead>\n",
       "    <tr>\n",
       "      <th></th>\n",
       "      <th>random_5</th>\n",
       "    </tr>\n",
       "  </thead>\n",
       "  <tbody>\n",
       "    <tr>\n",
       "      <th>VAR_resources/rivers_flood.csv False</th>\n",
       "      <td>0.676528</td>\n",
       "    </tr>\n",
       "    <tr>\n",
       "      <th>VAR_resources/rivers_ts_east_germany.csv False</th>\n",
       "      <td>0.684465</td>\n",
       "    </tr>\n",
       "    <tr>\n",
       "      <th>VAR_resources/rivers_ts_east_germany.csv 2021</th>\n",
       "      <td>0.704915</td>\n",
       "    </tr>\n",
       "  </tbody>\n",
       "</table>\n",
       "</div>"
      ],
      "text/plain": [
       "                                                random_5\n",
       "VAR_resources/rivers_flood.csv False            0.676528\n",
       "VAR_resources/rivers_ts_east_germany.csv False  0.684465\n",
       "VAR_resources/rivers_ts_east_germany.csv 2021   0.704915"
      ]
     },
     "execution_count": 59,
     "metadata": {},
     "output_type": "execute_result"
    }
   ],
   "source": [
    "#Complete\n",
    "hps = sorted([\"resolution_value\", \"method_hps.max_lag\",\"method_hps.var_absolute_values\",\"normalize\", \"data_path\", \"window_data_year_value\",'window_data_month_value'])\n",
    "var = load_method_results(mypath=p,method_name=\"var_\")\n",
    "print(test_runs(var.astype(str), metrics, hps))\n",
    "\n",
    "var_style = style_table(var,order,name=\"VAR\", scoring =sc, restriction=[\"data_path\", \"window_data_year_value\"])\n",
    "var_style"
   ]
  },
  {
   "cell_type": "code",
   "execution_count": 60,
   "metadata": {},
   "outputs": [
    {
     "name": "stdout",
     "output_type": "stream",
     "text": [
      "(True, True, 60)\n",
      "Fail: ('random_5', 'resources/rivers_flood.csv', 2021)\n"
     ]
    },
    {
     "data": {
      "text/html": [
       "<div>\n",
       "<style scoped>\n",
       "    .dataframe tbody tr th:only-of-type {\n",
       "        vertical-align: middle;\n",
       "    }\n",
       "\n",
       "    .dataframe tbody tr th {\n",
       "        vertical-align: top;\n",
       "    }\n",
       "\n",
       "    .dataframe thead tr th {\n",
       "        text-align: left;\n",
       "    }\n",
       "</style>\n",
       "<table border=\"1\" class=\"dataframe\">\n",
       "  <thead>\n",
       "    <tr>\n",
       "      <th></th>\n",
       "      <th>random_5</th>\n",
       "    </tr>\n",
       "  </thead>\n",
       "  <tbody>\n",
       "    <tr>\n",
       "      <th>Dynotears_resources/rivers_ts_east_germany.csv False</th>\n",
       "      <td>0.691835</td>\n",
       "    </tr>\n",
       "    <tr>\n",
       "      <th>Dynotears_resources/rivers_ts_east_germany.csv 2021</th>\n",
       "      <td>0.494512</td>\n",
       "    </tr>\n",
       "    <tr>\n",
       "      <th>Dynotears_resources/rivers_flood.csv False</th>\n",
       "      <td>0.707216</td>\n",
       "    </tr>\n",
       "  </tbody>\n",
       "</table>\n",
       "</div>"
      ],
      "text/plain": [
       "                                                    random_5\n",
       "Dynotears_resources/rivers_ts_east_germany.csv ...  0.691835\n",
       "Dynotears_resources/rivers_ts_east_germany.csv ...  0.494512\n",
       "Dynotears_resources/rivers_flood.csv False          0.707216"
      ]
     },
     "execution_count": 60,
     "metadata": {},
     "output_type": "execute_result"
    }
   ],
   "source": [
    "# Complete\n",
    "hps = sorted([\"resolution_value\", \"method_hps.max_lag\",\"normalize\", \"data_path\", \"window_data_year_value\",'window_data_month_value'])\n",
    "dyno = load_method_results(mypath=p,method_name=\"dyno\")\n",
    "print(test_runs(dyno.astype(str), metrics, hps))\n",
    "dyno_style = style_table(dyno,order,name=\"Dynotears\", scoring =sc, restriction=[\"data_path\", \"window_data_year_value\"])\n",
    "dyno_style"
   ]
  },
  {
   "cell_type": "code",
   "execution_count": 61,
   "metadata": {},
   "outputs": [
    {
     "name": "stdout",
     "output_type": "stream",
     "text": [
      "(True, True, 60)\n",
      "Fail: ('random_5', 'resources/rivers_flood.csv', 2021)\n"
     ]
    },
    {
     "data": {
      "text/html": [
       "<div>\n",
       "<style scoped>\n",
       "    .dataframe tbody tr th:only-of-type {\n",
       "        vertical-align: middle;\n",
       "    }\n",
       "\n",
       "    .dataframe tbody tr th {\n",
       "        vertical-align: top;\n",
       "    }\n",
       "\n",
       "    .dataframe thead tr th {\n",
       "        text-align: left;\n",
       "    }\n",
       "</style>\n",
       "<table border=\"1\" class=\"dataframe\">\n",
       "  <thead>\n",
       "    <tr>\n",
       "      <th></th>\n",
       "      <th>random_5</th>\n",
       "    </tr>\n",
       "  </thead>\n",
       "  <tbody>\n",
       "    <tr>\n",
       "      <th>Varlingam_resources/rivers_ts_east_germany.csv False</th>\n",
       "      <td>0.613842</td>\n",
       "    </tr>\n",
       "    <tr>\n",
       "      <th>Varlingam_resources/rivers_ts_east_germany.csv 2021</th>\n",
       "      <td>0.58635</td>\n",
       "    </tr>\n",
       "    <tr>\n",
       "      <th>Varlingam_resources/rivers_flood.csv False</th>\n",
       "      <td>0.619771</td>\n",
       "    </tr>\n",
       "  </tbody>\n",
       "</table>\n",
       "</div>"
      ],
      "text/plain": [
       "                                                    random_5\n",
       "Varlingam_resources/rivers_ts_east_germany.csv ...  0.613842\n",
       "Varlingam_resources/rivers_ts_east_germany.csv ...   0.58635\n",
       "Varlingam_resources/rivers_flood.csv False          0.619771"
      ]
     },
     "execution_count": 61,
     "metadata": {},
     "output_type": "execute_result"
    }
   ],
   "source": [
    "# Complete\n",
    "hps = sorted([\"resolution_value\",\"normalize\",\"method_hps.max_lag\", \"data_path\", \"window_data_year_value\",'window_data_month_value'])\n",
    "varl = load_method_results(mypath=p,method_name=\"varlingam\")\n",
    "print(test_runs(varl.astype(str), metrics, hps))\n",
    "varl_style = style_table(varl,order,name=\"Varlingam\", scoring =sc, restriction=[\"data_path\", \"window_data_year_value\"])\n",
    "varl_style"
   ]
  },
  {
   "cell_type": "code",
   "execution_count": 62,
   "metadata": {},
   "outputs": [
    {
     "name": "stdout",
     "output_type": "stream",
     "text": [
      "(True, True, 60)\n",
      "Fail: ('random_5', 'resources/rivers_flood.csv', 2021)\n"
     ]
    },
    {
     "data": {
      "text/html": [
       "<div>\n",
       "<style scoped>\n",
       "    .dataframe tbody tr th:only-of-type {\n",
       "        vertical-align: middle;\n",
       "    }\n",
       "\n",
       "    .dataframe tbody tr th {\n",
       "        vertical-align: top;\n",
       "    }\n",
       "\n",
       "    .dataframe thead tr th {\n",
       "        text-align: left;\n",
       "    }\n",
       "</style>\n",
       "<table border=\"1\" class=\"dataframe\">\n",
       "  <thead>\n",
       "    <tr>\n",
       "      <th></th>\n",
       "      <th>random_5</th>\n",
       "    </tr>\n",
       "  </thead>\n",
       "  <tbody>\n",
       "    <tr>\n",
       "      <th>PCMCI_resources/rivers_ts_east_germany.csv False</th>\n",
       "      <td>0.498137</td>\n",
       "    </tr>\n",
       "    <tr>\n",
       "      <th>PCMCI_resources/rivers_ts_east_germany.csv 2021</th>\n",
       "      <td>0.580214</td>\n",
       "    </tr>\n",
       "    <tr>\n",
       "      <th>PCMCI_resources/rivers_flood.csv False</th>\n",
       "      <td>0.533264</td>\n",
       "    </tr>\n",
       "  </tbody>\n",
       "</table>\n",
       "</div>"
      ],
      "text/plain": [
       "                                                  random_5\n",
       "PCMCI_resources/rivers_ts_east_germany.csv False  0.498137\n",
       "PCMCI_resources/rivers_ts_east_germany.csv 2021   0.580214\n",
       "PCMCI_resources/rivers_flood.csv False            0.533264"
      ]
     },
     "execution_count": 62,
     "metadata": {},
     "output_type": "execute_result"
    }
   ],
   "source": [
    "# Complete\n",
    "hps = sorted([\"resolution_value\",\"normalize\",\"method_hps.max_lag\", \"data_path\", \"window_data_year_value\",'window_data_month_value'])\n",
    "pcmci = load_method_results(mypath=p,method_name=\"pcmci\")\n",
    "print(test_runs(pcmci.astype(str), metrics, hps))\n",
    "pcmci_style = style_table(pcmci,order,name=\"PCMCI\", scoring =sc, restriction=[\"data_path\", \"window_data_year_value\"])\n",
    "pcmci_style"
   ]
  },
  {
   "cell_type": "code",
   "execution_count": 63,
   "metadata": {},
   "outputs": [
    {
     "name": "stdout",
     "output_type": "stream",
     "text": [
      "(True, True, 60)\n",
      "Fail: ('random_5', 'resources/rivers_flood.csv', 2021)\n"
     ]
    },
    {
     "data": {
      "text/html": [
       "<div>\n",
       "<style scoped>\n",
       "    .dataframe tbody tr th:only-of-type {\n",
       "        vertical-align: middle;\n",
       "    }\n",
       "\n",
       "    .dataframe tbody tr th {\n",
       "        vertical-align: top;\n",
       "    }\n",
       "\n",
       "    .dataframe thead tr th {\n",
       "        text-align: left;\n",
       "    }\n",
       "</style>\n",
       "<table border=\"1\" class=\"dataframe\">\n",
       "  <thead>\n",
       "    <tr>\n",
       "      <th></th>\n",
       "      <th>random_5</th>\n",
       "    </tr>\n",
       "  </thead>\n",
       "  <tbody>\n",
       "    <tr>\n",
       "      <th>cp__resources/rivers_ts_east_germany.csv False</th>\n",
       "      <td>0.548164</td>\n",
       "    </tr>\n",
       "    <tr>\n",
       "      <th>cp__resources/rivers_ts_east_germany.csv 2021</th>\n",
       "      <td>0.530792</td>\n",
       "    </tr>\n",
       "    <tr>\n",
       "      <th>cp__resources/rivers_flood.csv False</th>\n",
       "      <td>0.60005</td>\n",
       "    </tr>\n",
       "  </tbody>\n",
       "</table>\n",
       "</div>"
      ],
      "text/plain": [
       "                                                random_5\n",
       "cp__resources/rivers_ts_east_germany.csv False  0.548164\n",
       "cp__resources/rivers_ts_east_germany.csv 2021   0.530792\n",
       "cp__resources/rivers_flood.csv False             0.60005"
      ]
     },
     "execution_count": 63,
     "metadata": {},
     "output_type": "execute_result"
    }
   ],
   "source": [
    "hps = sorted([\"resolution_value\",\"normalize\", \"data_path\", \"window_data_year_value\",'window_data_month_value','method_hps.cp_architecture','method_hps.batch_size'])\n",
    "cp = load_method_results(mypath=p,method_name=\"cp_\")\n",
    "print(test_runs(cp.astype(str), metrics, hps))\n",
    "cp_style = style_table(cp,order,name=\"cp_\", scoring =sc, restriction=[\"data_path\", \"window_data_year_value\"])\n",
    "cp_style"
   ]
  },
  {
   "cell_type": "code",
   "execution_count": 64,
   "metadata": {},
   "outputs": [],
   "source": [
    "# CDMI\n",
    "#cdmi = load_method_results(method_name=\"cdmi\", hp_relevant =[\"resolution_value\", \"ds_name\"])\n",
    "#cdmi_style = style_table(cdmi,order,name=\"cdmi\", scoring =sc)"
   ]
  },
  {
   "cell_type": "code",
   "execution_count": 66,
   "metadata": {},
   "outputs": [],
   "source": [
    "tables = [cross_style.T,reverse_style.T,combo_style.T, var_style.T, dyno_style.T,varl_style.T,pcmci_style.T, cp_style.T]\n",
    "\n"
   ]
  },
  {
   "cell_type": "code",
   "execution_count": 67,
   "metadata": {},
   "outputs": [],
   "source": [
    "for x in tables: \n",
    "    x.index = [x.columns[0].split(\"/\")[0].replace(\"_resources\", \"\")]\n",
    "    x.columns = [y.split(\"/\")[1] for y in x.columns]"
   ]
  },
  {
   "cell_type": "code",
   "execution_count": 68,
   "metadata": {},
   "outputs": [
    {
     "data": {
      "text/html": [
       "<div>\n",
       "<style scoped>\n",
       "    .dataframe tbody tr th:only-of-type {\n",
       "        vertical-align: middle;\n",
       "    }\n",
       "\n",
       "    .dataframe tbody tr th {\n",
       "        vertical-align: top;\n",
       "    }\n",
       "\n",
       "    .dataframe thead th {\n",
       "        text-align: right;\n",
       "    }\n",
       "</style>\n",
       "<table border=\"1\" class=\"dataframe\">\n",
       "  <thead>\n",
       "    <tr style=\"text-align: right;\">\n",
       "      <th></th>\n",
       "      <th>rivers_ts_east_germany.csv False</th>\n",
       "      <th>rivers_ts_east_germany.csv 2021</th>\n",
       "      <th>rivers_flood.csv False</th>\n",
       "    </tr>\n",
       "  </thead>\n",
       "  <tbody>\n",
       "    <tr>\n",
       "      <th>CC</th>\n",
       "      <td>0.6108076251835017</td>\n",
       "      <td>0.5122412572622952</td>\n",
       "      <td>0.5933683583052447</td>\n",
       "    </tr>\n",
       "  </tbody>\n",
       "</table>\n",
       "</div>"
      ],
      "text/plain": [
       "   rivers_ts_east_germany.csv False rivers_ts_east_germany.csv 2021  \\\n",
       "CC               0.6108076251835017              0.5122412572622952   \n",
       "\n",
       "   rivers_flood.csv False  \n",
       "CC     0.5933683583052447  "
      ]
     },
     "execution_count": 68,
     "metadata": {},
     "output_type": "execute_result"
    }
   ],
   "source": [
    "tables[0]"
   ]
  },
  {
   "cell_type": "code",
   "execution_count": 69,
   "metadata": {},
   "outputs": [],
   "source": [
    "out = pd.concat([cross_style,reverse_style,combo_style, var_style, dyno_style,varl_style,pcmci_style, cp_style]).astype(float)"
   ]
  },
  {
   "cell_type": "code",
   "execution_count": 70,
   "metadata": {},
   "outputs": [],
   "source": [
    "out = pd.concat(tables).astype(float).round(3)"
   ]
  },
  {
   "cell_type": "code",
   "execution_count": 72,
   "metadata": {},
   "outputs": [],
   "source": [
    "out = out[out.columns[[1,0,2]]]"
   ]
  },
  {
   "cell_type": "code",
   "execution_count": 73,
   "metadata": {},
   "outputs": [],
   "source": [
    "out.columns = [\"Full TS\", \"No Rain\", \"Flood\"]"
   ]
  },
  {
   "cell_type": "code",
   "execution_count": 74,
   "metadata": {},
   "outputs": [
    {
     "data": {
      "text/html": [
       "<div>\n",
       "<style scoped>\n",
       "    .dataframe tbody tr th:only-of-type {\n",
       "        vertical-align: middle;\n",
       "    }\n",
       "\n",
       "    .dataframe tbody tr th {\n",
       "        vertical-align: top;\n",
       "    }\n",
       "\n",
       "    .dataframe thead th {\n",
       "        text-align: right;\n",
       "    }\n",
       "</style>\n",
       "<table border=\"1\" class=\"dataframe\">\n",
       "  <thead>\n",
       "    <tr style=\"text-align: right;\">\n",
       "      <th></th>\n",
       "      <th>Full TS</th>\n",
       "      <th>No Rain</th>\n",
       "      <th>Flood</th>\n",
       "    </tr>\n",
       "  </thead>\n",
       "  <tbody>\n",
       "    <tr>\n",
       "      <th>CC</th>\n",
       "      <td>0.512</td>\n",
       "      <td>0.611</td>\n",
       "      <td>0.593</td>\n",
       "    </tr>\n",
       "    <tr>\n",
       "      <th>RP</th>\n",
       "      <td>0.637</td>\n",
       "      <td>0.637</td>\n",
       "      <td>0.567</td>\n",
       "    </tr>\n",
       "    <tr>\n",
       "      <th>RPCC</th>\n",
       "      <td>0.624</td>\n",
       "      <td>0.622</td>\n",
       "      <td>0.596</td>\n",
       "    </tr>\n",
       "    <tr>\n",
       "      <th>VAR</th>\n",
       "      <td>0.705</td>\n",
       "      <td>0.684</td>\n",
       "      <td>0.677</td>\n",
       "    </tr>\n",
       "    <tr>\n",
       "      <th>Dynotears</th>\n",
       "      <td>0.495</td>\n",
       "      <td>0.692</td>\n",
       "      <td>0.707</td>\n",
       "    </tr>\n",
       "    <tr>\n",
       "      <th>Varlingam</th>\n",
       "      <td>0.586</td>\n",
       "      <td>0.614</td>\n",
       "      <td>0.620</td>\n",
       "    </tr>\n",
       "    <tr>\n",
       "      <th>PCMCI</th>\n",
       "      <td>0.580</td>\n",
       "      <td>0.498</td>\n",
       "      <td>0.533</td>\n",
       "    </tr>\n",
       "    <tr>\n",
       "      <th>cp_</th>\n",
       "      <td>0.531</td>\n",
       "      <td>0.548</td>\n",
       "      <td>0.600</td>\n",
       "    </tr>\n",
       "  </tbody>\n",
       "</table>\n",
       "</div>"
      ],
      "text/plain": [
       "           Full TS  No Rain  Flood\n",
       "CC           0.512    0.611  0.593\n",
       "RP           0.637    0.637  0.567\n",
       "RPCC         0.624    0.622  0.596\n",
       "VAR          0.705    0.684  0.677\n",
       "Dynotears    0.495    0.692  0.707\n",
       "Varlingam    0.586    0.614  0.620\n",
       "PCMCI        0.580    0.498  0.533\n",
       "cp_          0.531    0.548  0.600"
      ]
     },
     "execution_count": 74,
     "metadata": {},
     "output_type": "execute_result"
    }
   ],
   "source": [
    "out"
   ]
  },
  {
   "cell_type": "markdown",
   "metadata": {},
   "source": [
    "### Join to latex table"
   ]
  },
  {
   "cell_type": "code",
   "execution_count": 75,
   "metadata": {},
   "outputs": [
    {
     "data": {
      "text/html": [
       "<style type=\"text/css\">\n",
       "#T_adf32_row0_col1, #T_adf32_row1_col0, #T_adf32_row1_col1, #T_adf32_row2_col0, #T_adf32_row3_col0, #T_adf32_row4_col2, #T_adf32_row5_col2, #T_adf32_row6_col0, #T_adf32_row7_col2 {\n",
       "  color: black;\n",
       "  font-weight: bold;\n",
       "}\n",
       "</style>\n",
       "<table id=\"T_adf32\">\n",
       "  <thead>\n",
       "    <tr>\n",
       "      <th class=\"blank level0\" >&nbsp;</th>\n",
       "      <th id=\"T_adf32_level0_col0\" class=\"col_heading level0 col0\" >Full TS</th>\n",
       "      <th id=\"T_adf32_level0_col1\" class=\"col_heading level0 col1\" >No Rain</th>\n",
       "      <th id=\"T_adf32_level0_col2\" class=\"col_heading level0 col2\" >Flood</th>\n",
       "    </tr>\n",
       "  </thead>\n",
       "  <tbody>\n",
       "    <tr>\n",
       "      <th id=\"T_adf32_level0_row0\" class=\"row_heading level0 row0\" >CC</th>\n",
       "      <td id=\"T_adf32_row0_col0\" class=\"data row0 col0\" >0.51</td>\n",
       "      <td id=\"T_adf32_row0_col1\" class=\"data row0 col1\" >0.61</td>\n",
       "      <td id=\"T_adf32_row0_col2\" class=\"data row0 col2\" >0.59</td>\n",
       "    </tr>\n",
       "    <tr>\n",
       "      <th id=\"T_adf32_level0_row1\" class=\"row_heading level0 row1\" >RP</th>\n",
       "      <td id=\"T_adf32_row1_col0\" class=\"data row1 col0\" >0.64</td>\n",
       "      <td id=\"T_adf32_row1_col1\" class=\"data row1 col1\" >0.64</td>\n",
       "      <td id=\"T_adf32_row1_col2\" class=\"data row1 col2\" >0.57</td>\n",
       "    </tr>\n",
       "    <tr>\n",
       "      <th id=\"T_adf32_level0_row2\" class=\"row_heading level0 row2\" >RPCC</th>\n",
       "      <td id=\"T_adf32_row2_col0\" class=\"data row2 col0\" >0.62</td>\n",
       "      <td id=\"T_adf32_row2_col1\" class=\"data row2 col1\" >0.62</td>\n",
       "      <td id=\"T_adf32_row2_col2\" class=\"data row2 col2\" >0.60</td>\n",
       "    </tr>\n",
       "    <tr>\n",
       "      <th id=\"T_adf32_level0_row3\" class=\"row_heading level0 row3\" >VAR</th>\n",
       "      <td id=\"T_adf32_row3_col0\" class=\"data row3 col0\" >0.70</td>\n",
       "      <td id=\"T_adf32_row3_col1\" class=\"data row3 col1\" >0.68</td>\n",
       "      <td id=\"T_adf32_row3_col2\" class=\"data row3 col2\" >0.68</td>\n",
       "    </tr>\n",
       "    <tr>\n",
       "      <th id=\"T_adf32_level0_row4\" class=\"row_heading level0 row4\" >Dynotears</th>\n",
       "      <td id=\"T_adf32_row4_col0\" class=\"data row4 col0\" >0.49</td>\n",
       "      <td id=\"T_adf32_row4_col1\" class=\"data row4 col1\" >0.69</td>\n",
       "      <td id=\"T_adf32_row4_col2\" class=\"data row4 col2\" >0.71</td>\n",
       "    </tr>\n",
       "    <tr>\n",
       "      <th id=\"T_adf32_level0_row5\" class=\"row_heading level0 row5\" >Varlingam</th>\n",
       "      <td id=\"T_adf32_row5_col0\" class=\"data row5 col0\" >0.59</td>\n",
       "      <td id=\"T_adf32_row5_col1\" class=\"data row5 col1\" >0.61</td>\n",
       "      <td id=\"T_adf32_row5_col2\" class=\"data row5 col2\" >0.62</td>\n",
       "    </tr>\n",
       "    <tr>\n",
       "      <th id=\"T_adf32_level0_row6\" class=\"row_heading level0 row6\" >PCMCI</th>\n",
       "      <td id=\"T_adf32_row6_col0\" class=\"data row6 col0\" >0.58</td>\n",
       "      <td id=\"T_adf32_row6_col1\" class=\"data row6 col1\" >0.50</td>\n",
       "      <td id=\"T_adf32_row6_col2\" class=\"data row6 col2\" >0.53</td>\n",
       "    </tr>\n",
       "    <tr>\n",
       "      <th id=\"T_adf32_level0_row7\" class=\"row_heading level0 row7\" >cp_</th>\n",
       "      <td id=\"T_adf32_row7_col0\" class=\"data row7 col0\" >0.53</td>\n",
       "      <td id=\"T_adf32_row7_col1\" class=\"data row7 col1\" >0.55</td>\n",
       "      <td id=\"T_adf32_row7_col2\" class=\"data row7 col2\" >0.60</td>\n",
       "    </tr>\n",
       "  </tbody>\n",
       "</table>\n"
      ],
      "text/plain": [
       "<IPython.core.display.HTML object>"
      ]
     },
     "metadata": {},
     "output_type": "display_data"
    },
    {
     "name": "stdout",
     "output_type": "stream",
     "text": [
      "\\begin{tabular}{lrrr}\n",
      " & Full TS & No Rain & Flood \\\\\n",
      "CC & 0.51 & \\color{black} \\bfseries 0.61 & 0.59 \\\\\n",
      "RP & \\color{black} \\bfseries 0.64 & \\color{black} \\bfseries 0.64 & 0.57 \\\\\n",
      "RPCC & \\color{black} \\bfseries 0.62 & 0.62 & 0.60 \\\\\n",
      "VAR & \\color{black} \\bfseries 0.70 & 0.68 & 0.68 \\\\\n",
      "Dynotears & 0.49 & 0.69 & \\color{black} \\bfseries 0.71 \\\\\n",
      "Varlingam & 0.59 & 0.61 & \\color{black} \\bfseries 0.62 \\\\\n",
      "PCMCI & \\color{black} \\bfseries 0.58 & 0.50 & 0.53 \\\\\n",
      "cp_ & 0.53 & 0.55 & \\color{black} \\bfseries 0.60 \\\\\n",
      "\\end{tabular}\n",
      "\n"
     ]
    }
   ],
   "source": [
    "\n",
    "\n",
    "style = out.style.highlight_max(axis=1,  props='color:black;font-weight:bold')\n",
    "style = style.format(\"{:.2f}\")\n",
    "latex_str = style.to_latex(convert_css=True)\n",
    "display(HTML(style.to_html()))\n",
    "print(latex_str)"
   ]
  },
  {
   "cell_type": "code",
   "execution_count": null,
   "metadata": {},
   "outputs": [],
   "source": []
  }
 ],
 "metadata": {
  "kernelspec": {
   "display_name": "rivers1k",
   "language": "python",
   "name": "python3"
  },
  "language_info": {
   "codemirror_mode": {
    "name": "ipython",
    "version": 3
   },
   "file_extension": ".py",
   "mimetype": "text/x-python",
   "name": "python",
   "nbconvert_exporter": "python",
   "pygments_lexer": "ipython3",
   "version": "3.10.12"
  }
 },
 "nbformat": 4,
 "nbformat_minor": 2
}
