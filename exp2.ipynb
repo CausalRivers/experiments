{
 "cells": [
  {
   "cell_type": "code",
   "execution_count": 87,
   "metadata": {},
   "outputs": [],
   "source": [
    "import pandas as pd\n",
    "from IPython.display import display, HTML\n",
    "import numpy as np\n",
    "from hydra import initialize, compose\n",
    "\n",
    "from assembly_tools import load_experimental_grid, format_table, extract_raw_performance"
   ]
  },
  {
   "cell_type": "code",
   "execution_count": 88,
   "metadata": {},
   "outputs": [
    {
     "name": "stdout",
     "output_type": "stream",
     "text": [
      "The autoreload extension is already loaded. To reload it, use:\n",
      "  %reload_ext autoreload\n"
     ]
    }
   ],
   "source": [
    "%load_ext autoreload\n",
    "%autoreload 2"
   ]
  },
  {
   "cell_type": "markdown",
   "metadata": {},
   "source": [
    "### Assembly of experimental results 2\n"
   ]
  },
  {
   "cell_type": "code",
   "execution_count": 91,
   "metadata": {},
   "outputs": [
    {
     "name": "stdout",
     "output_type": "stream",
     "text": [
      "{'metrics': ['Max Acc thresh', 'Max Acc', 'Max individual Acc thresh', 'Max individual Acc', 'Null Acc', 'Max F1 thresh', 'Max F1', 'Max individual F1 thresh', 'Max individual F1', 'Null F1', 'AUROC', 'Individual AUROC', 'Null AUROC', 'runtime'], 'hp_list': ['data_preprocess.resolution', 'data_preprocess.normalize', 'label_path', 'method.max_lag', 'method.var_absolute_values', 'method.filter_mode', 'method.architecture'], 'rename': {'resolution_value': 'data_preprocess.resolution', 'method_hps.var_absolute_values': 'method.var_absolute_values', 'method_hps.filter_mode': 'method.filter_mode', 'method_hps.max_lag': 'method.max_lag', 'method_hps.cp_architecture': 'method.architecture', 'ds_name': 'label_path', 'normalize': 'data_preprocess.normalize', 'window_data_month_value': 'data_preprocess.subset_month', 'window_data_year_value': 'data_preprocess.subset_year'}, 'ds_order': ['close_3', 'close_5', 'root_cause_3', 'root_cause_5', '1_random_3', '1_random_5', 'confounder_3', 'confounder_5', 'random_3', 'random_5', 'disjoint_10'], 'data_path': '/home/datasets4/stein/rivers/paper_result_storage/new_runs/', 'exp': 'exp1/', 'method_name': 'combo', 'save_path': 'grid_export_'}\n"
     ]
    }
   ],
   "source": [
    "# load default params. They can be changed however you want.\n",
    "with initialize(version_base=None, config_path=\"config\"):\n",
    "    cfg = compose(config_name='extract.yaml')\n",
    "    print(cfg)\n",
    "general_params =  [\"resolution_value\", \"ds_name\", \"method_hps.max_lag\"]\n",
    "hp_stack = []\n",
    "performance_stack = []\n",
    "scoring = 'Max individual F1'\n",
    "cfg.ds_order = [\"random_5\"]"
   ]
  },
  {
   "cell_type": "code",
   "execution_count": 92,
   "metadata": {},
   "outputs": [
    {
     "name": "stdout",
     "output_type": "stream",
     "text": [
      "Fail: ('resources/rivers_flood.csv', '2021', 'random_5')\n",
      "Fail: ('resources/rivers_flood.csv', '2021', 'random_5')\n",
      "Fail: ('resources/rivers_flood.csv', '2021', 'random_5')\n",
      "Fail: ('resources/rivers_flood.csv', '2021', 'random_5')\n",
      "Fail: ('resources/rivers_flood.csv', '2021', 'random_5')\n",
      "Fail: ('resources/rivers_flood.csv', '2021', 'random_5')\n",
      "Fail: ('resources/rivers_flood.csv', '2021', 'random_5')\n",
      "Fail: ('resources/rivers_flood.csv', '2021', 'random_5')\n"
     ]
    }
   ],
   "source": [
    "for name in [\"reverse\", \"cross\", \"combo\", \"var_\", \"varlingam\",\"pcmci\",\"dyno\",\"cp\"]:\n",
    "    data = pd.read_csv(\"grid_export_exp2/\" + name + \".csv\", index_col=0)\n",
    "    res = [\"data_path\",  \"data_preprocess.subset_year\"]\n",
    "    formatted = format_table(data,cfg, scoring= scoring, restriction=res)\n",
    "    lines = extract_raw_performance(formatted,cfg,scoring,name=\"\", restriction=res)\n",
    "    lines.columns = [name]\n",
    "    hp_stack.append(formatted)\n",
    "    performance_stack.append(lines)"
   ]
  },
  {
   "cell_type": "code",
   "execution_count": 94,
   "metadata": {},
   "outputs": [],
   "source": [
    "# We ran this completely distributed so we load the raw files here.\n",
    "data = load_experimental_grid(mypath=cfg.data_path + \"exp2/\", method_name=\"cdmi\").T"
   ]
  },
  {
   "cell_type": "code",
   "execution_count": 95,
   "metadata": {},
   "outputs": [],
   "source": [
    "out = pd.concat(performance_stack,axis=1).T"
   ]
  },
  {
   "cell_type": "code",
   "execution_count": 96,
   "metadata": {},
   "outputs": [
    {
     "data": {
      "text/html": [
       "<div>\n",
       "<style scoped>\n",
       "    .dataframe tbody tr th:only-of-type {\n",
       "        vertical-align: middle;\n",
       "    }\n",
       "\n",
       "    .dataframe tbody tr th {\n",
       "        vertical-align: top;\n",
       "    }\n",
       "\n",
       "    .dataframe thead th {\n",
       "        text-align: right;\n",
       "    }\n",
       "</style>\n",
       "<table border=\"1\" class=\"dataframe\">\n",
       "  <thead>\n",
       "    <tr style=\"text-align: right;\">\n",
       "      <th></th>\n",
       "      <th>_resources/rivers_ts_east_germany.csv-2021</th>\n",
       "      <th>_resources/rivers_ts_east_germany.csv-False</th>\n",
       "      <th>_resources/rivers_flood.csv-False</th>\n",
       "    </tr>\n",
       "  </thead>\n",
       "  <tbody>\n",
       "    <tr>\n",
       "      <th>reverse</th>\n",
       "      <td>0.636681</td>\n",
       "      <td>0.636681</td>\n",
       "      <td>0.567248</td>\n",
       "    </tr>\n",
       "    <tr>\n",
       "      <th>cross</th>\n",
       "      <td>0.512241</td>\n",
       "      <td>0.610808</td>\n",
       "      <td>0.593368</td>\n",
       "    </tr>\n",
       "    <tr>\n",
       "      <th>combo</th>\n",
       "      <td>0.624228</td>\n",
       "      <td>0.622012</td>\n",
       "      <td>0.596208</td>\n",
       "    </tr>\n",
       "    <tr>\n",
       "      <th>var_</th>\n",
       "      <td>0.704915</td>\n",
       "      <td>0.684465</td>\n",
       "      <td>0.676528</td>\n",
       "    </tr>\n",
       "    <tr>\n",
       "      <th>varlingam</th>\n",
       "      <td>0.58635</td>\n",
       "      <td>0.613842</td>\n",
       "      <td>0.619771</td>\n",
       "    </tr>\n",
       "    <tr>\n",
       "      <th>pcmci</th>\n",
       "      <td>0.580214</td>\n",
       "      <td>0.498137</td>\n",
       "      <td>0.533264</td>\n",
       "    </tr>\n",
       "    <tr>\n",
       "      <th>dyno</th>\n",
       "      <td>0.494512</td>\n",
       "      <td>0.691835</td>\n",
       "      <td>0.707216</td>\n",
       "    </tr>\n",
       "    <tr>\n",
       "      <th>cp</th>\n",
       "      <td>0.530792</td>\n",
       "      <td>0.548164</td>\n",
       "      <td>0.60005</td>\n",
       "    </tr>\n",
       "  </tbody>\n",
       "</table>\n",
       "</div>"
      ],
      "text/plain": [
       "          _resources/rivers_ts_east_germany.csv-2021  \\\n",
       "reverse                                     0.636681   \n",
       "cross                                       0.512241   \n",
       "combo                                       0.624228   \n",
       "var_                                        0.704915   \n",
       "varlingam                                    0.58635   \n",
       "pcmci                                       0.580214   \n",
       "dyno                                        0.494512   \n",
       "cp                                          0.530792   \n",
       "\n",
       "          _resources/rivers_ts_east_germany.csv-False  \\\n",
       "reverse                                      0.636681   \n",
       "cross                                        0.610808   \n",
       "combo                                        0.622012   \n",
       "var_                                         0.684465   \n",
       "varlingam                                    0.613842   \n",
       "pcmci                                        0.498137   \n",
       "dyno                                         0.691835   \n",
       "cp                                           0.548164   \n",
       "\n",
       "          _resources/rivers_flood.csv-False  \n",
       "reverse                            0.567248  \n",
       "cross                              0.593368  \n",
       "combo                              0.596208  \n",
       "var_                               0.676528  \n",
       "varlingam                          0.619771  \n",
       "pcmci                              0.533264  \n",
       "dyno                               0.707216  \n",
       "cp                                  0.60005  "
      ]
     },
     "execution_count": 96,
     "metadata": {},
     "output_type": "execute_result"
    }
   ],
   "source": [
    "out"
   ]
  },
  {
   "cell_type": "code",
   "execution_count": 97,
   "metadata": {},
   "outputs": [
    {
     "name": "stderr",
     "output_type": "stream",
     "text": [
      "/tmp/ipykernel_2350123/1754352668.py:3: SettingWithCopyWarning: \n",
      "A value is trying to be set on a copy of a slice from a DataFrame\n",
      "\n",
      "See the caveats in the documentation: https://pandas.pydata.org/pandas-docs/stable/user_guide/indexing.html#returning-a-view-versus-a-copy\n",
      "  out.loc[\"cdmi\"] = [data[\"Max individual F1\"].mean(), np.nan, np.nan]\n"
     ]
    }
   ],
   "source": [
    "out = out[[out.columns[1], out.columns[0], out.columns[2]]]\n",
    "out.columns = [\"Full TS\", \"No Rain\", \"Flood\"]\n",
    "out.loc[\"cdmi\"] = [data[\"Max individual F1\"].mean(), np.nan, np.nan]\n",
    "out.index = [\"RP\", \"CC\", \"RPCC\", \"VAR\", \"Varlingam\", \"PCMCI\", \"Dynotears\", \"CP\", \"CDMI\"]\n",
    "out = out.astype(float).round(3)"
   ]
  },
  {
   "cell_type": "code",
   "execution_count": 98,
   "metadata": {},
   "outputs": [],
   "source": [
    "# switch order\n",
    "out =out.loc[list(out.index[:-2]) + [\"CDMI\"] + [\"CP\"]]"
   ]
  },
  {
   "cell_type": "code",
   "execution_count": 99,
   "metadata": {},
   "outputs": [
    {
     "data": {
      "text/html": [
       "<style type=\"text/css\">\n",
       "#T_56be0_row0_col0, #T_56be0_row0_col1, #T_56be0_row1_col0, #T_56be0_row2_col1, #T_56be0_row3_col1, #T_56be0_row4_col2, #T_56be0_row5_col1, #T_56be0_row6_col2, #T_56be0_row7_col0, #T_56be0_row8_col2 {\n",
       "  color: black;\n",
       "  font-weight: bold;\n",
       "}\n",
       "</style>\n",
       "<table id=\"T_56be0\">\n",
       "  <thead>\n",
       "    <tr>\n",
       "      <th class=\"blank level0\" >&nbsp;</th>\n",
       "      <th id=\"T_56be0_level0_col0\" class=\"col_heading level0 col0\" >Full TS</th>\n",
       "      <th id=\"T_56be0_level0_col1\" class=\"col_heading level0 col1\" >No Rain</th>\n",
       "      <th id=\"T_56be0_level0_col2\" class=\"col_heading level0 col2\" >Flood</th>\n",
       "    </tr>\n",
       "  </thead>\n",
       "  <tbody>\n",
       "    <tr>\n",
       "      <th id=\"T_56be0_level0_row0\" class=\"row_heading level0 row0\" >RP</th>\n",
       "      <td id=\"T_56be0_row0_col0\" class=\"data row0 col0\" >0.64</td>\n",
       "      <td id=\"T_56be0_row0_col1\" class=\"data row0 col1\" >0.64</td>\n",
       "      <td id=\"T_56be0_row0_col2\" class=\"data row0 col2\" >0.57</td>\n",
       "    </tr>\n",
       "    <tr>\n",
       "      <th id=\"T_56be0_level0_row1\" class=\"row_heading level0 row1\" >CC</th>\n",
       "      <td id=\"T_56be0_row1_col0\" class=\"data row1 col0\" >0.61</td>\n",
       "      <td id=\"T_56be0_row1_col1\" class=\"data row1 col1\" >0.51</td>\n",
       "      <td id=\"T_56be0_row1_col2\" class=\"data row1 col2\" >0.59</td>\n",
       "    </tr>\n",
       "    <tr>\n",
       "      <th id=\"T_56be0_level0_row2\" class=\"row_heading level0 row2\" >RPCC</th>\n",
       "      <td id=\"T_56be0_row2_col0\" class=\"data row2 col0\" >0.62</td>\n",
       "      <td id=\"T_56be0_row2_col1\" class=\"data row2 col1\" >0.62</td>\n",
       "      <td id=\"T_56be0_row2_col2\" class=\"data row2 col2\" >0.60</td>\n",
       "    </tr>\n",
       "    <tr>\n",
       "      <th id=\"T_56be0_level0_row3\" class=\"row_heading level0 row3\" >VAR</th>\n",
       "      <td id=\"T_56be0_row3_col0\" class=\"data row3 col0\" >0.68</td>\n",
       "      <td id=\"T_56be0_row3_col1\" class=\"data row3 col1\" >0.70</td>\n",
       "      <td id=\"T_56be0_row3_col2\" class=\"data row3 col2\" >0.68</td>\n",
       "    </tr>\n",
       "    <tr>\n",
       "      <th id=\"T_56be0_level0_row4\" class=\"row_heading level0 row4\" >Varlingam</th>\n",
       "      <td id=\"T_56be0_row4_col0\" class=\"data row4 col0\" >0.61</td>\n",
       "      <td id=\"T_56be0_row4_col1\" class=\"data row4 col1\" >0.59</td>\n",
       "      <td id=\"T_56be0_row4_col2\" class=\"data row4 col2\" >0.62</td>\n",
       "    </tr>\n",
       "    <tr>\n",
       "      <th id=\"T_56be0_level0_row5\" class=\"row_heading level0 row5\" >PCMCI</th>\n",
       "      <td id=\"T_56be0_row5_col0\" class=\"data row5 col0\" >0.50</td>\n",
       "      <td id=\"T_56be0_row5_col1\" class=\"data row5 col1\" >0.58</td>\n",
       "      <td id=\"T_56be0_row5_col2\" class=\"data row5 col2\" >0.53</td>\n",
       "    </tr>\n",
       "    <tr>\n",
       "      <th id=\"T_56be0_level0_row6\" class=\"row_heading level0 row6\" >Dynotears</th>\n",
       "      <td id=\"T_56be0_row6_col0\" class=\"data row6 col0\" >0.69</td>\n",
       "      <td id=\"T_56be0_row6_col1\" class=\"data row6 col1\" >0.49</td>\n",
       "      <td id=\"T_56be0_row6_col2\" class=\"data row6 col2\" >0.71</td>\n",
       "    </tr>\n",
       "    <tr>\n",
       "      <th id=\"T_56be0_level0_row7\" class=\"row_heading level0 row7\" >CDMI</th>\n",
       "      <td id=\"T_56be0_row7_col0\" class=\"data row7 col0\" >0.69</td>\n",
       "      <td id=\"T_56be0_row7_col1\" class=\"data row7 col1\" >nan</td>\n",
       "      <td id=\"T_56be0_row7_col2\" class=\"data row7 col2\" >nan</td>\n",
       "    </tr>\n",
       "    <tr>\n",
       "      <th id=\"T_56be0_level0_row8\" class=\"row_heading level0 row8\" >CP</th>\n",
       "      <td id=\"T_56be0_row8_col0\" class=\"data row8 col0\" >0.55</td>\n",
       "      <td id=\"T_56be0_row8_col1\" class=\"data row8 col1\" >0.53</td>\n",
       "      <td id=\"T_56be0_row8_col2\" class=\"data row8 col2\" >0.60</td>\n",
       "    </tr>\n",
       "  </tbody>\n",
       "</table>\n"
      ],
      "text/plain": [
       "<IPython.core.display.HTML object>"
      ]
     },
     "metadata": {},
     "output_type": "display_data"
    },
    {
     "name": "stdout",
     "output_type": "stream",
     "text": [
      "\\begin{tabular}{lrrr}\n",
      " & Full TS & No Rain & Flood \\\\\n",
      "RP & \\color{black} \\bfseries 0.64 & \\color{black} \\bfseries 0.64 & 0.57 \\\\\n",
      "CC & \\color{black} \\bfseries 0.61 & 0.51 & 0.59 \\\\\n",
      "RPCC & 0.62 & \\color{black} \\bfseries 0.62 & 0.60 \\\\\n",
      "VAR & 0.68 & \\color{black} \\bfseries 0.70 & 0.68 \\\\\n",
      "Varlingam & 0.61 & 0.59 & \\color{black} \\bfseries 0.62 \\\\\n",
      "PCMCI & 0.50 & \\color{black} \\bfseries 0.58 & 0.53 \\\\\n",
      "Dynotears & 0.69 & 0.49 & \\color{black} \\bfseries 0.71 \\\\\n",
      "CDMI & \\color{black} \\bfseries 0.69 & -* & -* \\\\\n",
      "CP & 0.55 & 0.53 & \\color{black} \\bfseries 0.60 \\\\\n",
      "\\end{tabular}\n",
      "\n"
     ]
    }
   ],
   "source": [
    "style = out.style.highlight_max(axis=1,  props='color:black;font-weight:bold')\n",
    "style = style.format(\"{:.2f}\")\n",
    "latex_str = style.to_latex(convert_css=True)\n",
    "display(HTML(style.to_html()))\n",
    "print(latex_str.replace(\"nan\", \"-*\"))"
   ]
  }
 ],
 "metadata": {
  "kernelspec": {
   "display_name": "causal_rivers_core",
   "language": "python",
   "name": "python3"
  },
  "language_info": {
   "codemirror_mode": {
    "name": "ipython",
    "version": 3
   },
   "file_extension": ".py",
   "mimetype": "text/x-python",
   "name": "python",
   "nbconvert_exporter": "python",
   "pygments_lexer": "ipython3",
   "version": "3.13.0"
  }
 },
 "nbformat": 4,
 "nbformat_minor": 2
}
