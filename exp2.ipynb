{
 "cells": [
  {
   "cell_type": "code",
   "execution_count": 3,
   "metadata": {},
   "outputs": [],
   "source": [
    "import pandas as pd\n",
    "from IPython.display import display, HTML\n",
    "import numpy as np\n",
    "from hydra import initialize, compose\n",
    "\n",
    "from assembly_tools import load_experimental_grid, format_table, extract_raw_performance"
   ]
  },
  {
   "cell_type": "code",
   "execution_count": 2,
   "metadata": {},
   "outputs": [],
   "source": [
    "%load_ext autoreload\n",
    "%autoreload 2"
   ]
  },
  {
   "cell_type": "markdown",
   "metadata": {},
   "source": [
    "### Assembly of experimental results 2\n"
   ]
  },
  {
   "cell_type": "code",
   "execution_count": 45,
   "metadata": {},
   "outputs": [
    {
     "name": "stdout",
     "output_type": "stream",
     "text": [
      "{'metrics': ['Max Acc thresh', 'Max Acc', 'Max individual Acc thresh', 'Max individual Acc', 'Null Acc', 'Max F1 thresh', 'Max F1', 'Max individual F1 thresh', 'Max individual F1', 'Null F1', 'AUROC', 'Individual AUROC', 'Null AUROC', 'runtime'], 'hp_list': ['data_preprocess.resolution', 'data_preprocess.normalize', 'label_path', 'method.max_lag', 'method.var_absolute_values', 'method.filter_mode', 'method.architecture'], 'rename': {'resolution_value': 'data_preprocess.resolution', 'method_hps.var_absolute_values': 'method.var_absolute_values', 'method_hps.filter_mode': 'method.filter_mode', 'method_hps.max_lag': 'method.max_lag', 'method_hps.cp_architecture': 'method.architecture', 'ds_name': 'label_path', 'normalize': 'data_preprocess.normalize', 'window_data_month_value': 'data_preprocess.subset_month', 'window_data_year_value': 'data_preprocess.subset_year'}, 'ds_order': ['close_3', 'close_5', 'root_cause_3', 'root_cause_5', '1_random_3', '1_random_5', 'confounder_3', 'confounder_5', 'random_3', 'random_5', 'disjoint_10'], 'data_path': '/home/datasets4/stein/rivers/paper_result_storage/new_runs/', 'exp': 'exp1/', 'method_name': 'combo', 'save_path': 'grid_export_'}\n"
     ]
    }
   ],
   "source": [
    "# load default params. They can be changed however you want.\n",
    "with initialize(version_base=None, config_path=\"config\"):\n",
    "    cfg = compose(config_name='extract.yaml')\n",
    "    print(cfg)\n",
    "general_params =  [\"resolution_value\", \"ds_name\", \"method_hps.max_lag\"]\n",
    "hp_stack = []\n",
    "scoring = 'Individual AUROC'\n",
    "cfg.ds_order = [\"random_5\"]"
   ]
  },
  {
   "cell_type": "code",
   "execution_count": 58,
   "metadata": {},
   "outputs": [
    {
     "name": "stdout",
     "output_type": "stream",
     "text": [
      "Fail: ('resources/rivers_flood.csv', '2021', 'random_5')\n",
      "Fail: ('resources/rivers_flood.csv', '2021', 'random_5')\n",
      "Fail: ('resources/rivers_flood.csv', '2021', 'random_5')\n",
      "Fail: ('resources/rivers_flood.csv', '2021', 'random_5')\n",
      "Fail: ('resources/rivers_flood.csv', '2021', 'random_5')\n",
      "Fail: ('resources/rivers_flood.csv', '2021', 'random_5')\n",
      "Fail: ('resources/rivers_flood.csv', '2021', 'random_5')\n",
      "Fail: ('resources/rivers_flood.csv', '2021', 'random_5')\n"
     ]
    },
    {
     "data": {
      "text/html": [
       "<style type=\"text/css\">\n",
       "#T_1cc89_row0_col0, #T_1cc89_row1_col0, #T_1cc89_row2_col0, #T_1cc89_row3_col1, #T_1cc89_row4_col2, #T_1cc89_row5_col1, #T_1cc89_row6_col2, #T_1cc89_row7_col2 {\n",
       "  color: black;\n",
       "  font-weight: bold;\n",
       "}\n",
       "</style>\n",
       "<table id=\"T_1cc89\">\n",
       "  <thead>\n",
       "    <tr>\n",
       "      <th class=\"blank level0\" >&nbsp;</th>\n",
       "      <th id=\"T_1cc89_level0_col0\" class=\"col_heading level0 col0\" >Full TS</th>\n",
       "      <th id=\"T_1cc89_level0_col1\" class=\"col_heading level0 col1\" >No Rain</th>\n",
       "      <th id=\"T_1cc89_level0_col2\" class=\"col_heading level0 col2\" >Flood</th>\n",
       "    </tr>\n",
       "  </thead>\n",
       "  <tbody>\n",
       "    <tr>\n",
       "      <th id=\"T_1cc89_level0_row0\" class=\"row_heading level0 row0\" >RP</th>\n",
       "      <td id=\"T_1cc89_row0_col0\" class=\"data row0 col0\" >0.78</td>\n",
       "      <td id=\"T_1cc89_row0_col1\" class=\"data row0 col1\" >0.78</td>\n",
       "      <td id=\"T_1cc89_row0_col2\" class=\"data row0 col2\" >0.70</td>\n",
       "    </tr>\n",
       "    <tr>\n",
       "      <th id=\"T_1cc89_level0_row1\" class=\"row_heading level0 row1\" >CC</th>\n",
       "      <td id=\"T_1cc89_row1_col0\" class=\"data row1 col0\" >0.81</td>\n",
       "      <td id=\"T_1cc89_row1_col1\" class=\"data row1 col1\" >0.74</td>\n",
       "      <td id=\"T_1cc89_row1_col2\" class=\"data row1 col2\" >0.80</td>\n",
       "    </tr>\n",
       "    <tr>\n",
       "      <th id=\"T_1cc89_level0_row2\" class=\"row_heading level0 row2\" >RPCC</th>\n",
       "      <td id=\"T_1cc89_row2_col0\" class=\"data row2 col0\" >0.81</td>\n",
       "      <td id=\"T_1cc89_row2_col1\" class=\"data row2 col1\" >0.79</td>\n",
       "      <td id=\"T_1cc89_row2_col2\" class=\"data row2 col2\" >0.74</td>\n",
       "    </tr>\n",
       "    <tr>\n",
       "      <th id=\"T_1cc89_level0_row3\" class=\"row_heading level0 row3\" >VAR</th>\n",
       "      <td id=\"T_1cc89_row3_col0\" class=\"data row3 col0\" >0.85</td>\n",
       "      <td id=\"T_1cc89_row3_col1\" class=\"data row3 col1\" >0.86</td>\n",
       "      <td id=\"T_1cc89_row3_col2\" class=\"data row3 col2\" >0.83</td>\n",
       "    </tr>\n",
       "    <tr>\n",
       "      <th id=\"T_1cc89_level0_row4\" class=\"row_heading level0 row4\" >Varlingam</th>\n",
       "      <td id=\"T_1cc89_row4_col0\" class=\"data row4 col0\" >0.72</td>\n",
       "      <td id=\"T_1cc89_row4_col1\" class=\"data row4 col1\" >0.67</td>\n",
       "      <td id=\"T_1cc89_row4_col2\" class=\"data row4 col2\" >0.74</td>\n",
       "    </tr>\n",
       "    <tr>\n",
       "      <th id=\"T_1cc89_level0_row5\" class=\"row_heading level0 row5\" >PCMCI</th>\n",
       "      <td id=\"T_1cc89_row5_col0\" class=\"data row5 col0\" >0.60</td>\n",
       "      <td id=\"T_1cc89_row5_col1\" class=\"data row5 col1\" >0.69</td>\n",
       "      <td id=\"T_1cc89_row5_col2\" class=\"data row5 col2\" >0.60</td>\n",
       "    </tr>\n",
       "    <tr>\n",
       "      <th id=\"T_1cc89_level0_row6\" class=\"row_heading level0 row6\" >Dynotears</th>\n",
       "      <td id=\"T_1cc89_row6_col0\" class=\"data row6 col0\" >0.79</td>\n",
       "      <td id=\"T_1cc89_row6_col1\" class=\"data row6 col1\" >0.60</td>\n",
       "      <td id=\"T_1cc89_row6_col2\" class=\"data row6 col2\" >0.80</td>\n",
       "    </tr>\n",
       "    <tr>\n",
       "      <th id=\"T_1cc89_level0_row7\" class=\"row_heading level0 row7\" >CP</th>\n",
       "      <td id=\"T_1cc89_row7_col0\" class=\"data row7 col0\" >0.65</td>\n",
       "      <td id=\"T_1cc89_row7_col1\" class=\"data row7 col1\" >0.66</td>\n",
       "      <td id=\"T_1cc89_row7_col2\" class=\"data row7 col2\" >0.74</td>\n",
       "    </tr>\n",
       "  </tbody>\n",
       "</table>\n"
      ],
      "text/plain": [
       "<IPython.core.display.HTML object>"
      ]
     },
     "metadata": {},
     "output_type": "display_data"
    },
    {
     "name": "stdout",
     "output_type": "stream",
     "text": [
      "\\begin{tabular}{lrrr}\n",
      " & Full TS & No Rain & Flood \\\\\n",
      "RP & \\color{black} \\bfseries 0.78 & 0.78 & 0.70 \\\\\n",
      "CC & \\color{black} \\bfseries 0.81 & 0.74 & 0.80 \\\\\n",
      "RPCC & \\color{black} \\bfseries 0.81 & 0.79 & 0.74 \\\\\n",
      "VAR & 0.85 & \\color{black} \\bfseries 0.86 & 0.83 \\\\\n",
      "Varlingam & 0.72 & 0.67 & \\color{black} \\bfseries 0.74 \\\\\n",
      "PCMCI & 0.60 & \\color{black} \\bfseries 0.69 & 0.60 \\\\\n",
      "Dynotears & 0.79 & 0.60 & \\color{black} \\bfseries 0.80 \\\\\n",
      "CP & 0.65 & 0.66 & \\color{black} \\bfseries 0.74 \\\\\n",
      "\\end{tabular}\n",
      "\n"
     ]
    }
   ],
   "source": [
    "performance_stack = []\n",
    "\n",
    "for name in [\"reverse\", \"cross\", \"combo\", \"var_\", \"varlingam\",\"pcmci\",\"dyno\",\"cp\"]:\n",
    "    data = pd.read_csv(\"grid_export_exp2/\" + name + \".csv\", index_col=0)\n",
    "    res = [\"data_path\",  \"data_preprocess.subset_year\"]\n",
    "    formatted = format_table(data,cfg, scoring= scoring, restriction=res)\n",
    "    lines = extract_raw_performance(formatted,cfg,scoring,name=\"\", restriction=res)\n",
    "    lines.columns = [name]\n",
    "    hp_stack.append(formatted)\n",
    "    performance_stack.append(lines)\n",
    "    \n",
    "out = pd.concat(performance_stack,axis=1).T  \n",
    "out = out[[out.columns[1], out.columns[0], out.columns[2]]]\n",
    "out.columns = [\"Full TS\", \"No Rain\", \"Flood\"]\n",
    "\n",
    "\n",
    "out.index = [\"RP\", \"CC\", \"RPCC\", \"VAR\", \"Varlingam\", \"PCMCI\", \"Dynotears\", \"CP\"]\n",
    "out = out.astype(float).round(3)\n",
    "style = out.style.highlight_max(axis=1,  props='color:black;font-weight:bold')\n",
    "style = style.format(\"{:.2f}\")\n",
    "latex_str = style.to_latex(convert_css=True)\n",
    "display(HTML(style.to_html()))\n",
    "print(latex_str.replace(\"nan\", \"\\\\textdagger\"))"
   ]
  },
  {
   "cell_type": "code",
   "execution_count": 74,
   "metadata": {},
   "outputs": [
    {
     "name": "stdout",
     "output_type": "stream",
     "text": [
      "Fail: ('resources/rivers_flood.csv', '2021', 'random_5')\n",
      "Fail: ('resources/rivers_flood.csv', '2021', 'random_5')\n",
      "Fail: ('resources/rivers_flood.csv', '2021', 'random_5')\n",
      "Fail: ('resources/rivers_flood.csv', '2021', 'random_5')\n",
      "Fail: ('resources/rivers_flood.csv', '2021', 'random_5')\n",
      "Fail: ('resources/rivers_flood.csv', '2021', 'random_5')\n",
      "Fail: ('resources/rivers_flood.csv', '2021', 'random_5')\n",
      "Fail: ('resources/rivers_flood.csv', '2021', 'random_5')\n"
     ]
    },
    {
     "data": {
      "text/html": [
       "<style type=\"text/css\">\n",
       "#T_71b0c_row0_col0, #T_71b0c_row1_col0, #T_71b0c_row2_col0, #T_71b0c_row3_col1, #T_71b0c_row4_col2, #T_71b0c_row5_col1, #T_71b0c_row6_col2, #T_71b0c_row7_col0, #T_71b0c_row8_col2 {\n",
       "  color: black;\n",
       "  font-weight: bold;\n",
       "}\n",
       "</style>\n",
       "<table id=\"T_71b0c\">\n",
       "  <thead>\n",
       "    <tr>\n",
       "      <th class=\"blank level0\" >&nbsp;</th>\n",
       "      <th id=\"T_71b0c_level0_col0\" class=\"col_heading level0 col0\" >Full TS</th>\n",
       "      <th id=\"T_71b0c_level0_col1\" class=\"col_heading level0 col1\" >No Rain</th>\n",
       "      <th id=\"T_71b0c_level0_col2\" class=\"col_heading level0 col2\" >Flood</th>\n",
       "    </tr>\n",
       "  </thead>\n",
       "  <tbody>\n",
       "    <tr>\n",
       "      <th id=\"T_71b0c_level0_row0\" class=\"row_heading level0 row0\" >RP</th>\n",
       "      <td id=\"T_71b0c_row0_col0\" class=\"data row0 col0\" >0.78</td>\n",
       "      <td id=\"T_71b0c_row0_col1\" class=\"data row0 col1\" >0.78</td>\n",
       "      <td id=\"T_71b0c_row0_col2\" class=\"data row0 col2\" >0.70</td>\n",
       "    </tr>\n",
       "    <tr>\n",
       "      <th id=\"T_71b0c_level0_row1\" class=\"row_heading level0 row1\" >CC</th>\n",
       "      <td id=\"T_71b0c_row1_col0\" class=\"data row1 col0\" >0.81</td>\n",
       "      <td id=\"T_71b0c_row1_col1\" class=\"data row1 col1\" >0.74</td>\n",
       "      <td id=\"T_71b0c_row1_col2\" class=\"data row1 col2\" >0.80</td>\n",
       "    </tr>\n",
       "    <tr>\n",
       "      <th id=\"T_71b0c_level0_row2\" class=\"row_heading level0 row2\" >RPCC</th>\n",
       "      <td id=\"T_71b0c_row2_col0\" class=\"data row2 col0\" >0.81</td>\n",
       "      <td id=\"T_71b0c_row2_col1\" class=\"data row2 col1\" >0.79</td>\n",
       "      <td id=\"T_71b0c_row2_col2\" class=\"data row2 col2\" >0.75</td>\n",
       "    </tr>\n",
       "    <tr>\n",
       "      <th id=\"T_71b0c_level0_row3\" class=\"row_heading level0 row3\" >VAR</th>\n",
       "      <td id=\"T_71b0c_row3_col0\" class=\"data row3 col0\" >0.85</td>\n",
       "      <td id=\"T_71b0c_row3_col1\" class=\"data row3 col1\" >0.86</td>\n",
       "      <td id=\"T_71b0c_row3_col2\" class=\"data row3 col2\" >0.83</td>\n",
       "    </tr>\n",
       "    <tr>\n",
       "      <th id=\"T_71b0c_level0_row4\" class=\"row_heading level0 row4\" >Varlingam</th>\n",
       "      <td id=\"T_71b0c_row4_col0\" class=\"data row4 col0\" >0.72</td>\n",
       "      <td id=\"T_71b0c_row4_col1\" class=\"data row4 col1\" >0.67</td>\n",
       "      <td id=\"T_71b0c_row4_col2\" class=\"data row4 col2\" >0.74</td>\n",
       "    </tr>\n",
       "    <tr>\n",
       "      <th id=\"T_71b0c_level0_row5\" class=\"row_heading level0 row5\" >PCMCI</th>\n",
       "      <td id=\"T_71b0c_row5_col0\" class=\"data row5 col0\" >0.61</td>\n",
       "      <td id=\"T_71b0c_row5_col1\" class=\"data row5 col1\" >0.69</td>\n",
       "      <td id=\"T_71b0c_row5_col2\" class=\"data row5 col2\" >0.60</td>\n",
       "    </tr>\n",
       "    <tr>\n",
       "      <th id=\"T_71b0c_level0_row6\" class=\"row_heading level0 row6\" >Dynotears</th>\n",
       "      <td id=\"T_71b0c_row6_col0\" class=\"data row6 col0\" >0.79</td>\n",
       "      <td id=\"T_71b0c_row6_col1\" class=\"data row6 col1\" >0.60</td>\n",
       "      <td id=\"T_71b0c_row6_col2\" class=\"data row6 col2\" >0.80</td>\n",
       "    </tr>\n",
       "    <tr>\n",
       "      <th id=\"T_71b0c_level0_row7\" class=\"row_heading level0 row7\" >CDMI</th>\n",
       "      <td id=\"T_71b0c_row7_col0\" class=\"data row7 col0\" >0.83</td>\n",
       "      <td id=\"T_71b0c_row7_col1\" class=\"data row7 col1\" >nan</td>\n",
       "      <td id=\"T_71b0c_row7_col2\" class=\"data row7 col2\" >nan</td>\n",
       "    </tr>\n",
       "    <tr>\n",
       "      <th id=\"T_71b0c_level0_row8\" class=\"row_heading level0 row8\" >CP</th>\n",
       "      <td id=\"T_71b0c_row8_col0\" class=\"data row8 col0\" >0.65</td>\n",
       "      <td id=\"T_71b0c_row8_col1\" class=\"data row8 col1\" >0.66</td>\n",
       "      <td id=\"T_71b0c_row8_col2\" class=\"data row8 col2\" >0.74</td>\n",
       "    </tr>\n",
       "  </tbody>\n",
       "</table>\n"
      ],
      "text/plain": [
       "<IPython.core.display.HTML object>"
      ]
     },
     "metadata": {},
     "output_type": "display_data"
    },
    {
     "name": "stdout",
     "output_type": "stream",
     "text": [
      "\\begin{tabular}{llll}\n",
      " & Full TS & No Rain & Flood \\\\\n",
      "RP & \\color{black} \\bfseries 0.78 & 0.78 & 0.70 \\\\\n",
      "CC & \\color{black} \\bfseries 0.81 & 0.74 & 0.80 \\\\\n",
      "RPCC & \\color{black} \\bfseries 0.81 & 0.79 & 0.75 \\\\\n",
      "VAR & 0.85 & \\color{black} \\bfseries 0.86 & 0.83 \\\\\n",
      "Varlingam & 0.72 & 0.67 & \\color{black} \\bfseries 0.74 \\\\\n",
      "PCMCI & 0.61 & \\color{black} \\bfseries 0.69 & 0.60 \\\\\n",
      "Dynotears & 0.79 & 0.60 & \\color{black} \\bfseries 0.80 \\\\\n",
      "CDMI & \\color{black} \\bfseries 0.83 & \\textdagger & \\textdagger \\\\\n",
      "CP & 0.65 & 0.66 & \\color{black} \\bfseries 0.74 \\\\\n",
      "\\end{tabular}\n",
      "\n"
     ]
    }
   ],
   "source": [
    "# As we run CDMI distributed and in a different format, we exclude it here as the raw files are too big. \n",
    "# Further it is not trainable on the small regimes making it not comparable.\n",
    "# For documentation purposes: This is how we included it.\n",
    "\n",
    "performance_stack = []\n",
    "\n",
    "for name in [\"reverse\", \"cross\", \"combo\", \"var_\", \"varlingam\",\"pcmci\",\"dyno\",\"cp\"]:\n",
    "    data = pd.read_csv(\"grid_export_exp2/\" + name + \".csv\", index_col=0)\n",
    "    res = [\"data_path\",  \"data_preprocess.subset_year\"]\n",
    "    formatted = format_table(data,cfg, scoring= scoring, restriction=res)\n",
    "    lines = extract_raw_performance(formatted,cfg,scoring,name=\"\", restriction=res)\n",
    "    lines.columns = [name]\n",
    "    hp_stack.append(formatted)\n",
    "    performance_stack.append(lines)\n",
    "\n",
    "### CDMI\n",
    "data = load_experimental_grid(mypath=cfg.data_path + \"exp2/\", method_name=\"cdmi\").T\n",
    "out = pd.concat(performance_stack,axis=1).T\n",
    "out = out[[out.columns[1], out.columns[0], out.columns[2]]]\n",
    "out.columns = [\"Full TS\", \"No Rain\", \"Flood\"]\n",
    "out.loc[\"cdmi\"] = [data[\"Individual AUROC\"].mean(), np.nan, np.nan]\n",
    "out.index = [\"RP\", \"CC\", \"RPCC\", \"VAR\", \"Varlingam\", \"PCMCI\", \"Dynotears\", \"CP\", \"CDMI\"]\n",
    "# switch order\n",
    "out =out.loc[list(out.index[:-2]) + [\"CDMI\"] + [\"CP\"]]\n",
    "### CDMI\n",
    "style = out.style.highlight_max(axis=1,  props='color:black;font-weight:bold')\n",
    "style = style.format(\"{:.2f}\")\n",
    "latex_str = style.to_latex(convert_css=True)\n",
    "display(HTML(style.to_html()))\n",
    "print(latex_str.replace(\"nan\", \"\\\\textdagger\"))"
   ]
  },
  {
   "cell_type": "markdown",
   "metadata": {},
   "source": [
    "### CHeck HPS for control"
   ]
  },
  {
   "cell_type": "code",
   "execution_count": 5,
   "metadata": {},
   "outputs": [],
   "source": [
    "data = pd.read_csv(\"grid_export_exp2/\" + \"var_\" + \".csv\", index_col=0)\n"
   ]
  },
  {
   "cell_type": "code",
   "execution_count": 15,
   "metadata": {},
   "outputs": [],
   "source": [
    "data = data[data[\"data_path\"] == \"resources/rivers_flood.csv\"]"
   ]
  },
  {
   "cell_type": "code",
   "execution_count": 17,
   "metadata": {},
   "outputs": [
    {
     "data": {
      "text/plain": [
       "Max Acc thresh                                    3.058926\n",
       "Max Acc                                           0.815171\n",
       "Max individual Acc thresh                          4.62454\n",
       "Max individual Acc                                0.860542\n",
       "Null Acc                                          0.799813\n",
       "Max F1 thresh                                    48.696238\n",
       "Max F1                                            0.568949\n",
       "Max individual F1 thresh                         17.070496\n",
       "Max individual F1                                 0.676528\n",
       "Null F1                                           0.333593\n",
       "AUROC                                             0.831272\n",
       "Individual AUROC                                  0.834518\n",
       "Null AUROC                                             0.5\n",
       "runtime                             0 days 00:26:19.201219\n",
       "data_preprocess.resolution                           15min\n",
       "data_preprocess.normalize                            False\n",
       "label_path                                        random_5\n",
       "method.max_lag                                           5\n",
       "method.var_absolute_values                           False\n",
       "method.filter_mode                                     NaN\n",
       "data_path                       resources/rivers_flood.csv\n",
       "data_preprocess.subset_year                          False\n",
       "data_preprocess.subset_month                            []\n",
       "Name: 2024-11-21 15:36:03.1146, dtype: object"
      ]
     },
     "execution_count": 17,
     "metadata": {},
     "output_type": "execute_result"
    }
   ],
   "source": [
    "data.sort_values(\"Individual AUROC\",ascending=False).iloc[0] # THis is the best performance of a VAR model for Exp2. "
   ]
  }
 ],
 "metadata": {
  "kernelspec": {
   "display_name": "causalrivers",
   "language": "python",
   "name": "python3"
  },
  "language_info": {
   "codemirror_mode": {
    "name": "ipython",
    "version": 3
   },
   "file_extension": ".py",
   "mimetype": "text/x-python",
   "name": "python",
   "nbconvert_exporter": "python",
   "pygments_lexer": "ipython3",
   "version": "3.13.0"
  }
 },
 "nbformat": 4,
 "nbformat_minor": 2
}
